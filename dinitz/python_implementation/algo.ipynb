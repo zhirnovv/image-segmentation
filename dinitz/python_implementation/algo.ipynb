{
  "nbformat": 4,
  "nbformat_minor": 0,
  "metadata": {
    "colab": {
      "name": "algo.ipynb",
      "provenance": [],
      "collapsed_sections": [],
      "include_colab_link": true
    },
    "kernelspec": {
      "name": "python3",
      "display_name": "Python 3"
    },
    "language_info": {
      "name": "python"
    }
  },
  "cells": [
    {
      "cell_type": "markdown",
      "metadata": {
        "id": "view-in-github",
        "colab_type": "text"
      },
      "source": [
        "<a href=\"https://colab.research.google.com/github/zhirnovv/image-segmentation/blob/main/dinitz/algo.ipynb\" target=\"_parent\"><img src=\"https://colab.research.google.com/assets/colab-badge.svg\" alt=\"Open In Colab\"/></a>"
      ]
    },
    {
      "cell_type": "code",
      "metadata": {
        "id": "pBlT7fuBBL_v"
      },
      "source": [
        "from math import inf\n",
        "import glob"
      ],
      "execution_count": null,
      "outputs": []
    },
    {
      "cell_type": "code",
      "metadata": {
        "id": "TMaBhsF69sad"
      },
      "source": [
        "class Edge():\n",
        "  def __init__(self, capacity):\n",
        "    self.capacity = capacity\n",
        "    self.flow = 0"
      ],
      "execution_count": null,
      "outputs": []
    },
    {
      "cell_type": "code",
      "metadata": {
        "id": "oChoOQTTBCtY"
      },
      "source": [
        "class Graph():\n",
        "  def __init__(self, vertice_amount):\n",
        "    self.vertice_amount = vertice_amount\n",
        "    self.adjacency_matrix = [[-inf] * vertice_amount for i in range(vertice_amount)];\n",
        "\n",
        "  def add_edge(self, start, end, capacity):\n",
        "    self.adjacency_matrix[start][end] = Edge(capacity)\n",
        "    self.adjacency_matrix[end][start] = Edge(capacity)\n",
        "    self.adjacency_matrix[end][start].flow = capacity"
      ],
      "execution_count": null,
      "outputs": []
    },
    {
      "cell_type": "code",
      "metadata": {
        "id": "vMipLdXJCq_x"
      },
      "source": [
        "class MaxFlow():\n",
        "  def __init__(self, graph, source, sink):\n",
        "    self.graph = graph\n",
        "    self.source = source\n",
        "    self.sink = sink\n",
        "\n",
        "    self.level = [-1] * graph.vertice_amount;\n",
        "    self.pointers = [0] * graph.vertice_amount;\n",
        "\n",
        "    self.level[source] = 0\n",
        "    self.q = [source]\n",
        "\n",
        "  def bfs(self):\n",
        "    while self.q:\n",
        "      current_vertice_index = self.q.pop()\n",
        "      for adjacent_vertice_index in range(len(self.graph.adjacency_matrix[current_vertice_index])):\n",
        "        current_edge = self.graph.adjacency_matrix[current_vertice_index][adjacent_vertice_index]\n",
        "        \n",
        "        if current_edge == -inf:\n",
        "          continue\n",
        "\n",
        "        if current_edge.capacity - current_edge.flow < 1:\n",
        "          continue\n",
        "\n",
        "        if self.level[adjacent_vertice_index] != -1:\n",
        "          continue\n",
        "\n",
        "        self.level[adjacent_vertice_index] = self.level[current_vertice_index] + 1\n",
        "        self.q.insert(0, adjacent_vertice_index)\n",
        "\n",
        "    return self.level[self.sink] != -1\n",
        "\n",
        "  def dfs(self, start, flow_to_push):\n",
        "    if flow_to_push == 0:\n",
        "      return 0\n",
        "    \n",
        "    if start == self.sink:\n",
        "      return flow_to_push\n",
        "    \n",
        "    pointer = self.pointers[start] # cid\n",
        "\n",
        "    while pointer < len(self.graph.adjacency_matrix[start]):\n",
        "      current_edge = self.graph.adjacency_matrix[start][pointer]\n",
        "      reverse_edge = self.graph.adjacency_matrix[pointer][start]\n",
        "\n",
        "      if current_edge == -inf:\n",
        "        pointer += 1\n",
        "        self.pointers[start] = pointer\n",
        "        continue\n",
        "\n",
        "      if self.level[start] +1 != self.level[pointer] or current_edge.capacity - current_edge.flow < 1:\n",
        "        pointer += 1\n",
        "        self.pointers[start] = pointer\n",
        "        continue\n",
        "\n",
        "      flow = self.dfs(pointer, min(flow_to_push, current_edge.capacity - current_edge.flow))\n",
        "\n",
        "      if flow == 0:\n",
        "        pointer += 1\n",
        "        self.pointers[start] = pointer\n",
        "        continue\n",
        "\n",
        "      current_edge.flow += flow\n",
        "      reverse_edge.flow -= flow\n",
        "\n",
        "      return flow\n",
        "\n",
        "    return 0\n",
        "  \n",
        "  def flow(self):\n",
        "    max_flow = 0\n",
        "    while True:\n",
        "      self.level = [-1] * self.graph.vertice_amount;\n",
        "      self.level[self.source] = 0\n",
        "      self.q = [self.source]\n",
        "      if (not self.bfs()):\n",
        "        break\n",
        "      self.pointers = [0] * self.graph.vertice_amount;\n",
        "      pushed_flow = self.dfs(self.source, inf)\n",
        "      while pushed_flow:\n",
        "        max_flow += pushed_flow\n",
        "        pushed_flow = self.dfs(self.source, inf)\n",
        "    return max_flow\n"
      ],
      "execution_count": 260,
      "outputs": []
    },
    {
      "cell_type": "code",
      "metadata": {
        "id": "xqIhgN1Qmlh9"
      },
      "source": [
        "class TestSuite():\n",
        "  def __init__(self):\n",
        "    self.test_file_paths = glob.glob('/content/tests/*.txt')\n",
        "\n",
        "  def throw_error(self, reason, explanation):\n",
        "    raise Exception('Неверный формат тестового файла: ', reason, explanation)\n",
        "\n",
        "  def run_test(self, file):\n",
        "    print('---- НАЧАЛО ТЕСТА ----')\n",
        "    print('Тестовый файл --', file, '\\n')\n",
        "    initial_graph_parameters = file.readline().strip().split()\n",
        "    if len(initial_graph_parameters) != 2:\n",
        "      self.throw_error('некорректные параметры графа', 'первая строка должна содержать число вершин и число ребер через пробел')\n",
        "    if not all(param.isnumeric() for param in initial_graph_parameters):\n",
        "      self.throw_error('некорректные параметры графа', 'параметры должны иметь целочисленный формат')\n",
        "    \n",
        "    vertice_amount, edge_amount = int(initial_graph_parameters[0]), int(initial_graph_parameters[1])\n",
        "    graph = Graph(vertice_amount)\n",
        "\n",
        "    print('Инициализирован граф, число вершин -', vertice_amount)\n",
        "    print('Число ребер -', edge_amount)\n",
        "\n",
        "    for line in range(edge_amount):\n",
        "      print('Ребро', line + 1)\n",
        "      edge_parameters = file.readline().strip().split()\n",
        "      if len(edge_parameters) != 3:\n",
        "        self.throw_error('некорректные параметры ребра', 'строка должна содержать начальную вершину, конечную вершину и пропускную способность через пробел')\n",
        "      if not all(param.isnumeric() for param in edge_parameters):\n",
        "        self.throw_error('некорректные параметры ребра', 'параметры должны иметь целочисленный формат')\n",
        "      start, end, capacity = int(edge_parameters[0]) - 1, int(edge_parameters[1]) - 1, int(edge_parameters[2])\n",
        "      print('Начальная вершина -', start, 'Конечная вершина -', end, 'Пропускная способность', capacity)\n",
        "      graph.add_edge(start, end, capacity)\n",
        "    \n",
        "    dinitz = MaxFlow(graph, 0, vertice_amount - 1)\n",
        "\n",
        "    print('\\nМаксимальный поток -', dinitz.flow())\n",
        "    print('---- КОНЕЦ ТЕСТА ---- \\n')      \n",
        "\n",
        "\n",
        "  def run_tests(self):\n",
        "    for test_file_path in self.test_file_paths:\n",
        "      test_file = open(test_file_path)\n",
        "      self.run_test(test_file)\n",
        "\n",
        "\n",
        "\n"
      ],
      "execution_count": 261,
      "outputs": []
    },
    {
      "cell_type": "code",
      "metadata": {
        "colab": {
          "base_uri": "https://localhost:8080/"
        },
        "id": "QkcwvVkln4gg",
        "outputId": "f24291cf-6e58-42d6-db84-e57cc94dae79"
      },
      "source": [
        "# Чтобы добавить тестовые файлы, необходимо:\n",
        "# 1. Открыть слева вкладку \"Файлы\"\n",
        "# 2. Создать директорию tests, если ее нет\n",
        "# 3. Добавить в tests тестовые файлы в расширении .txt\n",
        "# 4. Запустить все ячейки по порядку\n",
        "\n",
        "TestSuite().run_tests()"
      ],
      "execution_count": 262,
      "outputs": [
        {
          "output_type": "stream",
          "text": [
            "---- НАЧАЛО ТЕСТА ----\n",
            "Тестовый файл -- <_io.TextIOWrapper name='/content/tests/2.txt' mode='r' encoding='UTF-8'> \n",
            "\n",
            "Инициализирован граф, число вершин - 9\n",
            "Число ребер - 15\n",
            "Ребро 1\n",
            "Начальная вершина - 0 Конечная вершина - 1 Пропускная способность 6\n",
            "Ребро 2\n",
            "Начальная вершина - 0 Конечная вершина - 2 Пропускная способность 1\n",
            "Ребро 3\n",
            "Начальная вершина - 0 Конечная вершина - 3 Пропускная способность 10\n",
            "Ребро 4\n",
            "Начальная вершина - 1 Конечная вершина - 2 Пропускная способность 2\n",
            "Ребро 5\n",
            "Начальная вершина - 3 Конечная вершина - 2 Пропускная способность 2\n",
            "Ребро 6\n",
            "Начальная вершина - 1 Конечная вершина - 4 Пропускная способность 4\n",
            "Ребро 7\n",
            "Начальная вершина - 1 Конечная вершина - 5 Пропускная способность 1\n",
            "Ребро 8\n",
            "Начальная вершина - 2 Конечная вершина - 5 Пропускная способность 20\n",
            "Ребро 9\n",
            "Начальная вершина - 3 Конечная вершина - 6 Пропускная способность 5\n",
            "Ребро 10\n",
            "Начальная вершина - 4 Конечная вершина - 5 Пропускная способность 2\n",
            "Ребро 11\n",
            "Начальная вершина - 5 Конечная вершина - 6 Пропускная способность 6\n",
            "Ребро 12\n",
            "Начальная вершина - 4 Конечная вершина - 7 Пропускная способность 5\n",
            "Ребро 13\n",
            "Начальная вершина - 5 Конечная вершина - 7 Пропускная способность 10\n",
            "Ребро 14\n",
            "Начальная вершина - 7 Конечная вершина - 8 Пропускная способность 12\n",
            "Ребро 15\n",
            "Начальная вершина - 6 Конечная вершина - 8 Пропускная способность 4\n",
            "\n",
            "Максимальный поток - 13\n",
            "---- КОНЕЦ ТЕСТА ---- \n",
            "\n",
            "---- НАЧАЛО ТЕСТА ----\n",
            "Тестовый файл -- <_io.TextIOWrapper name='/content/tests/1.txt' mode='r' encoding='UTF-8'> \n",
            "\n",
            "Инициализирован граф, число вершин - 4\n",
            "Число ребер - 5\n",
            "Ребро 1\n",
            "Начальная вершина - 0 Конечная вершина - 1 Пропускная способность 10000\n",
            "Ребро 2\n",
            "Начальная вершина - 0 Конечная вершина - 2 Пропускная способность 10000\n",
            "Ребро 3\n",
            "Начальная вершина - 1 Конечная вершина - 2 Пропускная способность 1\n",
            "Ребро 4\n",
            "Начальная вершина - 2 Конечная вершина - 3 Пропускная способность 10000\n",
            "Ребро 5\n",
            "Начальная вершина - 1 Конечная вершина - 3 Пропускная способность 10000\n",
            "\n",
            "Максимальный поток - 20000\n",
            "---- КОНЕЦ ТЕСТА ---- \n",
            "\n"
          ],
          "name": "stdout"
        }
      ]
    },
    {
      "cell_type": "code",
      "metadata": {
        "id": "9duIyMyaze4j"
      },
      "source": [
        ""
      ],
      "execution_count": 262,
      "outputs": []
    }
  ]
}