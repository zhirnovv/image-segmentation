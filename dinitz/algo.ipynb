{
  "nbformat": 4,
  "nbformat_minor": 0,
  "metadata": {
    "colab": {
      "name": "algo.ipynb",
      "provenance": [],
      "collapsed_sections": [],
      "include_colab_link": true
    },
    "kernelspec": {
      "name": "python3",
      "display_name": "Python 3"
    },
    "language_info": {
      "name": "python"
    }
  },
  "cells": [
    {
      "cell_type": "markdown",
      "metadata": {
        "id": "view-in-github",
        "colab_type": "text"
      },
      "source": [
        "<a href=\"https://colab.research.google.com/github/zhirnovv/image-segmentation/blob/main/dinitz/algo.ipynb\" target=\"_parent\"><img src=\"https://colab.research.google.com/assets/colab-badge.svg\" alt=\"Open In Colab\"/></a>"
      ]
    },
    {
      "cell_type": "code",
      "metadata": {
        "id": "pBlT7fuBBL_v"
      },
      "source": [
        "from math import inf, min"
      ],
      "execution_count": null,
      "outputs": []
    },
    {
      "cell_type": "code",
      "metadata": {
        "id": "TMaBhsF69sad"
      },
      "source": [
        "class Edge():\n",
        "  def __init__(self, capacity):\n",
        "    self.capacity = capacity\n",
        "    self.flow = 0"
      ],
      "execution_count": null,
      "outputs": []
    },
    {
      "cell_type": "code",
      "metadata": {
        "id": "oChoOQTTBCtY"
      },
      "source": [
        "class Graph():\n",
        "  def __init__(self, vertice_amount):\n",
        "    self.vertice_amount = vertice_amount\n",
        "    self.adjacency_matrix = [[-inf] * vertice_amount for i in range(vertice_amount)];\n",
        "\n",
        "  def add_edge(self, start, end, capacity):\n",
        "    self.adjacency_matrix[start][end] = Edge(capacity)\n",
        "    self.adjacency_matrix[end][start] = Edge(capacity)\n",
        "    self.adjacency_matrix[end][start].flow = capacity"
      ],
      "execution_count": null,
      "outputs": []
    },
    {
      "cell_type": "code",
      "metadata": {
        "id": "vMipLdXJCq_x"
      },
      "source": [
        "class MaxFlow():\n",
        "  def __init__(self, graph, source, sink):\n",
        "    self.graph = graph\n",
        "    self.source = source\n",
        "    self.sink = sink\n",
        "\n",
        "    self.level = [-1] * graph.vertice_amount;\n",
        "    self.pointers = [0] * graph.vertice_amount;\n",
        "\n",
        "    self.level[source] = 0\n",
        "    self.q = [source]\n",
        "\n",
        "  def bfs(self):\n",
        "    while self.q:\n",
        "      current_vertice_index = self.q.pop()\n",
        "      for adjacent_vertice_index in range(len(self.graph.adjacency_matrix[current_vertice_index])):\n",
        "        current_edge = self.graph.adjacency_matrix[current_vertice_index][adjacent_vertice_index]\n",
        "        \n",
        "        if current_edge == -inf:\n",
        "          continue\n",
        "\n",
        "        if current_edge.capacity - current_edge.flow < 1:\n",
        "          continue\n",
        "\n",
        "        if self.level[adjacent_vertice_index] != -1:\n",
        "          continue\n",
        "\n",
        "        self.level[adjacent_vertice_index] = self.level[current_vertice_index] + 1\n",
        "        self.q.insert(0, adjacent_vertice_index)\n",
        "\n",
        "    return self.level[self.sink] != -1\n",
        "\n",
        "  def dfs(self, start, flow_to_push):\n",
        "    if flow_to_push == 0:\n",
        "      return 0\n",
        "    \n",
        "    if start == self.sink:\n",
        "      return flow_to_push\n",
        "    \n",
        "    pointer = self.pointers[start] # cid\n",
        "\n",
        "    while pointer < len(self.graph.adjacency_matrix[start]):\n",
        "      current_edge = self.graph.adjacency_matrix[start][pointer]\n",
        "      reverse_edge = self.graph.adjacency_matrix[pointer][start]\n",
        "\n",
        "      if current_edge == -inf:\n",
        "        pointer += 1\n",
        "        self.pointers[start] = pointer\n",
        "        continue\n",
        "\n",
        "      if self.level[start] +1 != self.level[pointer] or current_edge.capacity - current_edge.flow < 1:\n",
        "        pointer += 1\n",
        "        self.pointers[start] = pointer\n",
        "        continue\n",
        "\n",
        "      bruh = self.dfs(pointer, min(flow_to_push, current_edge.capacity - current_edge.flow))\n",
        "\n",
        "      if bruh == 0:\n",
        "        pointer += 1\n",
        "        self.pointers[start] = pointer\n",
        "        continue\n",
        "\n",
        "      current_edge.flow += bruh\n",
        "      reverse_edge.flow -= bruh\n",
        "\n",
        "      return bruh\n",
        "\n",
        "    return 0\n",
        "  \n",
        "  def flow(self):\n",
        "    max_flow = 0\n",
        "    while True:\n",
        "      self.level = [-1] * self.graph.vertice_amount;\n",
        "      self.level[self.source] = 0\n",
        "      self.q = [self.source]\n",
        "      if (not self.bfs()):\n",
        "        break\n",
        "      self.pointers = [0] * self.graph.vertice_amount;\n",
        "      pushed_flow = self.dfs(self.source, inf)\n",
        "      while pushed_flow:\n",
        "        max_flow += pushed_flow\n",
        "        pushed_flow = self.dfs(self.source, inf)\n",
        "    return max_flow\n"
      ],
      "execution_count": null,
      "outputs": []
    },
    {
      "cell_type": "code",
      "metadata": {
        "colab": {
          "base_uri": "https://localhost:8080/"
        },
        "id": "lgCnm-RuIRG0",
        "outputId": "18b0ff6d-ba01-493e-8f92-1001b90f0124"
      },
      "source": [
        "graph = Graph(6)\n",
        "graph.add_edge(0, 1, 10)\n",
        "graph.add_edge(0, 2, 10)\n",
        "graph.add_edge(1, 2, 2)\n",
        "graph.add_edge(1, 4, 8)\n",
        "graph.add_edge(1, 3, 4)\n",
        "graph.add_edge(2, 4, 9)\n",
        "graph.add_edge(4, 3, 6)\n",
        "graph.add_edge(3, 5, 10)\n",
        "graph.add_edge(4, 5, 10)\n",
        "\n",
        "max_flow = MaxFlow(graph, 0, 5)\n",
        "max_flow.flow()"
      ],
      "execution_count": null,
      "outputs": [
        {
          "output_type": "execute_result",
          "data": {
            "text/plain": [
              "19"
            ]
          },
          "metadata": {
            "tags": []
          },
          "execution_count": 146
        }
      ]
    },
    {
      "cell_type": "code",
      "metadata": {
        "colab": {
          "base_uri": "https://localhost:8080/"
        },
        "id": "XdsNZny-iFl0",
        "outputId": "3e2b8393-116e-487f-b98b-c43851386c3c"
      },
      "source": [
        "graph = Graph(7)\n",
        "graph.add_edge(0, 1, 3)\n",
        "graph.add_edge(0, 2, 3)\n",
        "graph.add_edge(0, 3, 4)\n",
        "graph.add_edge(2, 1, 10)\n",
        "graph.add_edge(1, 4, 2)\n",
        "graph.add_edge(2, 4, 1)\n",
        "graph.add_edge(4, 3, 1)\n",
        "graph.add_edge(3, 5, 5)\n",
        "graph.add_edge(4, 5, 5)\n",
        "graph.add_edge(4, 6, 2)\n",
        "graph.add_edge(5, 6, 5)\n",
        "\n",
        "max_flow = MaxFlow(graph, 0, 5)\n",
        "max_flow.flow()"
      ],
      "execution_count": null,
      "outputs": [
        {
          "output_type": "execute_result",
          "data": {
            "text/plain": [
              "7"
            ]
          },
          "metadata": {
            "tags": []
          },
          "execution_count": 148
        }
      ]
    }
  ]
}